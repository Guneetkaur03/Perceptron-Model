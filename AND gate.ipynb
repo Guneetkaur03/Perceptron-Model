{
  "nbformat": 4,
  "nbformat_minor": 0,
  "metadata": {
    "colab": {
      "name": "Untitled0.ipynb",
      "version": "0.3.2",
      "provenance": []
    },
    "kernelspec": {
      "name": "python3",
      "display_name": "Python 3"
    }
  },
  "cells": [
    {
      "metadata": {
        "id": "KVpMbmReDjeP",
        "colab_type": "code",
        "colab": {}
      },
      "cell_type": "code",
      "source": [
        "import numpy as np\n",
        "import tensorflow as tf\n",
        "import matplotlib.pyplot as plt\n"
      ],
      "execution_count": 0,
      "outputs": []
    },
    {
      "metadata": {
        "id": "nO4v8-jsDlgd",
        "colab_type": "code",
        "colab": {}
      },
      "cell_type": "code",
      "source": [
        "NUM_FEATURES = 2\n",
        "NUM_ITER = 2000\n",
        "learning_rate = 0.01"
      ],
      "execution_count": 0,
      "outputs": []
    },
    {
      "metadata": {
        "id": "l-5FCy99DvNZ",
        "colab_type": "code",
        "colab": {}
      },
      "cell_type": "code",
      "source": [
        "x = np.array([[0, 0], [1, 0], [1, 1], [0, 1]], np.float32) # 4x2, input\n",
        "y = np.array([0, 0, 1, 0], np.float32) # 4, correct output, AND operation"
      ],
      "execution_count": 0,
      "outputs": []
    },
    {
      "metadata": {
        "id": "jN9yyzCnDwNa",
        "colab_type": "code",
        "colab": {}
      },
      "cell_type": "code",
      "source": [
        "W = np.zeros(NUM_FEATURES, np.float32) # 2x1, weight\n",
        "b = np.zeros(1, np.float32) # 1x1"
      ],
      "execution_count": 0,
      "outputs": []
    },
    {
      "metadata": {
        "id": "1GDmjhRCDxmz",
        "colab_type": "code",
        "colab": {}
      },
      "cell_type": "code",
      "source": [
        "for k in range(NUM_ITER):\n",
        "   yHat = x.dot(W) + b\n",
        "   yHat = 1.0 / (1.0 + np.exp(-yHat))\n",
        " \n",
        "   err = y - yHat\n",
        " \n",
        "   deltaW = np.transpose(x).dot(err) # have to 2x1\n",
        "   deltaB = np.sum(err) # have to 1x1. collect error from all the 4 samples\n",
        "   W = W + learning_rate * deltaW # if err = y - yHat, then W = W + lRate * deltW\n",
        "   b = b + learning_rate * deltaB"
      ],
      "execution_count": 0,
      "outputs": []
    },
    {
      "metadata": {
        "id": "rAWmcSJED0Cw",
        "colab_type": "code",
        "colab": {
          "base_uri": "https://localhost:8080/",
          "height": 398
        },
        "outputId": "33d97aa5-904d-4a7f-8e22-cc6b3cad882b"
      },
      "cell_type": "code",
      "source": [
        "plot_x = np.array([np.min(x[:, 0] - 0.2), np.max(x[:, 1]+0.2)])\n",
        "plot_y = - 1 / W[1] * (W[0] * plot_x + b) # comes from, w0*x + w1*y + b = 0 then y = (-1/w1) (w0*x + b)\n",
        " \n",
        "print('W:' + str(W))\n",
        "print('b:' + str(b))\n",
        "print('plot_y: '+ str(plot_y))\n",
        "plt.scatter(x[:, 0], x[:, 1], c=y, s=100, cmap='viridis')\n",
        "plt.plot(plot_x, plot_y, color='k', linewidth=2)\n",
        "plt.xlim([-0.2, 1.2]); plt.ylim([-0.2, 1.25]);\n",
        "plt.show()"
      ],
      "execution_count": 17,
      "outputs": [
        {
          "output_type": "stream",
          "text": [
            "W:[2.6895783 2.6895783]\n",
            "b:[-4.26431]\n",
            "plot_y: [1.7854939  0.38549384]\n"
          ],
          "name": "stdout"
        },
        {
          "output_type": "display_data",
          "data": {
            "image/png": "[encoded data removed]",
            "text/plain": [
              "<matplotlib.figure.Figure at 0x7f6e228284a8>"
            ]
          },
          "metadata": {
            "tags": []
          }
        }
      ]
    },
    {
      "metadata": {
        "id": "ltiwalplD5lt",
        "colab_type": "code",
        "colab": {}
      },
      "cell_type": "code",
      "source": [
        ""
      ],
      "execution_count": 0,
      "outputs": []
    }
  ]
}
